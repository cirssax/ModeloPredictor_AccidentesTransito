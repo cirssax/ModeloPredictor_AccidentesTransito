{
 "cells": [
  {
   "cell_type": "markdown",
   "id": "492e50f9",
   "metadata": {},
   "source": [
    "## Limpieza dataset 2015\n",
    "A continuación se limpia y analiza los datos correspondientes al dataset del año 2015. Este dataset se compone de las siguientes columnas:\n",
    "- X: longitud\n",
    "- Y: latitud\n",
    "- FID: Número de identificación del registro\n",
    "- Ubicación: Nombre de la dirección completa donde ocurrió el siniestro\n",
    "- Fallecidos: Cantidad de personas fallecidas\n",
    "- Graves: Cantidad de personas en estado grave\n",
    "- MenosGrave: Cantidad de personas en estado menos grave\n",
    "- Leve: Cantidad de personas con heridas leves\n",
    "- Accidentes: Cantida de accidentes\n",
    "\n",
    "<hr>\n",
    "\n",
    "El objetivo para este dataset es:\n",
    "- Eliminar aquellas columnas que no aportan datos relevantes o que no coincidan con las estructuras de los otros dataset.\n",
    "- Extraer los valores de Calle1, Calle2, Número y Comuna a partir de la columna Ubicación.\n",
    "- Normalizar los datos del dataset (por ejemplo: letras a mayúsculas y sin tildes o imputación de valores nulos)\n",
    "- Exportar el dataset normalizado."
   ]
  },
  {
   "cell_type": "code",
   "execution_count": null,
   "id": "8cc35720",
   "metadata": {},
   "outputs": [],
   "source": []
  }
 ],
 "metadata": {
  "kernelspec": {
   "display_name": "Python 3",
   "language": "python",
   "name": "python3"
  },
  "language_info": {
   "codemirror_mode": {
    "name": "ipython",
    "version": 3
   },
   "file_extension": ".py",
   "mimetype": "text/x-python",
   "name": "python",
   "nbconvert_exporter": "python",
   "pygments_lexer": "ipython3",
   "version": "3.9.5"
  }
 },
 "nbformat": 4,
 "nbformat_minor": 5
}
